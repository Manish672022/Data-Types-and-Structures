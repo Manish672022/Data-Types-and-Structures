{
  "nbformat": 4,
  "nbformat_minor": 0,
  "metadata": {
    "colab": {
      "provenance": []
    },
    "kernelspec": {
      "name": "python3",
      "display_name": "Python 3"
    },
    "language_info": {
      "name": "python"
    }
  },
  "cells": [
    {
      "cell_type": "code",
      "execution_count": null,
      "metadata": {
        "id": "6Wa8lb54Dvdn"
      },
      "outputs": [],
      "source": []
    },
    {
      "cell_type": "code",
      "source": [],
      "metadata": {
        "id": "f9Yi45znEA_U"
      },
      "execution_count": null,
      "outputs": []
    },
    {
      "cell_type": "markdown",
      "source": [
        "# Data Types and Structures"
      ],
      "metadata": {
        "id": "tqEd6JhlGkyX"
      }
    },
    {
      "cell_type": "markdown",
      "source": [
        "1.What are data structures, and why are they important?\n",
        "- >Data structures are ways to organize and store data in a computer so that it can be efficiently accessed, modified, and manipulated.\n",
        "  \n",
        "\n"
      ],
      "metadata": {
        "id": "UMZ08oWiFFQ2"
      }
    },
    {
      "cell_type": "markdown",
      "source": [],
      "metadata": {
        "id": "QfaslCV8EBe3"
      }
    },
    {
      "cell_type": "markdown",
      "source": [
        "2. Explain the difference between mutable and immutable data types with examples.\n",
        "    - Mutable data types are those that can be changed or modified after they are created.\n",
        "     Examples of Mutable Data Types:\n",
        "    1. Lists: Lists are ordered collections of items that can be changed.\n",
        "     2. Dictionaries: Dictionaries are unordered collections of key-value pairs that can be changed.\n",
        "     3. Sets: Sets are unordered collections of unique items that can be changed.\n",
        "    - Immutable data types are those that cannot be changed or modified after they are created.\n",
        "     Examples of Immutable Data Types:\n",
        "     1. Integers: Integers are whole numbers that cannot be changed.\n",
        "     2. Floats: Floats are decimal numbers that cannot be changed.\n",
        "    3. Strings: Strings are sequences of characters that cannot be changed.\n",
        "   4. Tuples: Tuples are ordered, immutable collections of items.\n"
      ],
      "metadata": {
        "id": "r0Z16hyHF0TA"
      }
    },
    {
      "cell_type": "markdown",
      "source": [
        "3. What are the main differences between lists and tuples in Python?\n",
        "   - Here are the main differences between lists and tuples in Python:\n",
        "\n",
        "   1. Mutability\n",
        "   - Lists: Mutable, meaning they can be modified after creation.\n",
        "   - Tuples: Immutable, meaning they cannot be modified after creation.\n",
        "\n",
        "   2. Syntax\n",
        "   - Lists: Defined using square brackets [].\n",
        "   - Tuples: Defined using parentheses ().\n",
        "\n",
        "   3. Performance\n",
        "   - Tuples: Faster than lists because they are immutable.\n",
        "   - Lists: Slower than tuples because they are mutable.\n",
        "\n",
        "   4. Use Cases\n",
        "   - Lists: Use when you need to modify the collection, such as adding or removing elements.\n",
        "   - Tuples: Use when you need a collection that won't change, such as when working with constants.\n"
      ],
      "metadata": {
        "id": "UQhXSR5VGhVc"
      }
    },
    {
      "cell_type": "markdown",
      "source": [],
      "metadata": {
        "id": "TSiQuqvfF9vd"
      }
    },
    {
      "cell_type": "markdown",
      "source": [
        "4. Describe how dictionaries store data.\n",
        "   - Dictionaries in Python store data in a key-value pair format, where:\n",
        "\n",
        "Key\n",
        "- Unique identifier for each piece of data\n",
        "- Must be immutable (e.g., strings, integers, tuples)\n",
        "- Used to access and modify the corresponding value\n",
        "\n",
        "Value\n",
        "- The data associated with each key\n",
        "- Can be any data type (e.g., strings, integers, lists, dictionaries)\n",
        "\n",
        "Dictionaries store data in a way that allows for:\n",
        "\n",
        "Efficient Lookups\n",
        "- Keys are hashed, allowing for fast lookups, insertions, and deletions\n",
        "- Average time complexity of O(1) for lookups and insertions\n",
        "\n",
        "Flexible Data Structure\n",
        "- Can store a variety of data types\n",
        "- Can be used to represent complex data structures, such as graphs and networks"
      ],
      "metadata": {
        "id": "OHeuN2owG6Gt"
      }
    },
    {
      "cell_type": "markdown",
      "source": [
        "5. Why might you use a set instead of a list in Python.\n",
        "   - 1. Uniqueness of Elements\n",
        "  - Sets automatically eliminate duplicate elements.\n",
        "  - Lists allow duplicate elements.\n",
        "\n",
        "   2. Faster Membership Testing\n",
        "   - Sets have an average time complexity of O(1) for membership testing (e.g., x in my_set).\n",
        "  - Lists have an average time complexity of O(n) for membership testing.\n",
        "\n",
        "   3. Faster Union, Intersection, and Difference Operations\n",
        "- Sets provide efficient methods for union, intersection, and difference operations (e.g., my_set1 & my_set2).\n",
        "- Lists do not provide these methods, and implementing them manually can be inefficient.\n",
        "\n",
        "4. Memory Efficiency\n",
        "- Sets can be more memory-efficient than lists, especially when dealing with large datasets.\n",
        "\n",
        "Use Cases for Sets\n",
        "1. Removing duplicates: Use a set to eliminate duplicate elements from a list.\n",
        "2. Membership testing: Use a set when you need to frequently check if an element is present in a collection.\n",
        "3. Set operations: Use sets when you need to perform union, intersection, or difference operations on collections.\n",
        "\n"
      ],
      "metadata": {
        "id": "RDEXFikQHKAi"
      }
    },
    {
      "cell_type": "markdown",
      "source": [
        "6.What is a string in Python, and how is it different from a list?\n",
        "  - In Python, a string is a sequence of characters, such as letters, numbers, or symbols. Strings are immutable, meaning they cannot be changed after creation.\n",
        "\n"
      ],
      "metadata": {
        "id": "j6ZB5CDPHUcw"
      }
    },
    {
      "cell_type": "markdown",
      "source": [
        "7. How do tuples ensure data integrity in Python?\n",
        "  - Tuples in Python ensure data integrity in several ways:\n",
        "\n",
        "    1. Immutability\n",
        "    - Tuples are immutable, meaning their contents cannot be modified after creation.\n",
        "   - This prevents accidental or intentional changes to the data.\n",
        "\n",
        "   2. Protection from Insertion or Deletion\n",
        "  - Since tuples are immutable, elements cannot be inserted or deleted.\n",
        "  - This ensures that the data remains consistent and predictable.\n",
        "\n",
        "   3. Prevention of Unintended Changes\n",
        "   - Tuples cannot be changed in-place, which prevents unintended changes.\n",
        "   - This ensures that the data remains reliable and trustworthy."
      ],
      "metadata": {
        "id": "0ENG8fipHajf"
      }
    },
    {
      "cell_type": "markdown",
      "source": [
        "8. What is a hash table, and how does it relate to dictionaries in Python?\n",
        "   - A hash table is a data structure that stores key-value pairs in an array using a hash function to map keys to indices of the array.\n",
        "   "
      ],
      "metadata": {
        "id": "qQQ8HpWrHqDL"
      }
    },
    {
      "cell_type": "markdown",
      "source": [
        "9. Can lists contain different data types in Python?\n",
        "  - Yes, lists in Python can contain different data types.\n"
      ],
      "metadata": {
        "id": "8nolQzL9HwE3"
      }
    },
    {
      "cell_type": "markdown",
      "source": [
        "10.  Explain why strings are immutable in Python.\n",
        "     - In Python, strings are immutable, meaning they cannot be changed after creation. This design decision is intentional and provides several benefits:\n",
        "     1- Thread Safety\n",
        "      Immutable strings ensure that multiple threads can access and manipulate the same string without fear of one thread modifying the string in a way that affects other threads.\n",
        "     2- Performance\n",
        "      Immutable strings allow for efficient interning, which is the process of storing a single copy of a string in memory. This reduces memory usage and improves performance.\n",
        "     3- Hashability\n",
        "     Immutable strings can be used as dictionary keys because their hash value remains constant. If strings were mutable, their hash value could change, leading to unexpected behavior in dictionaries.\n",
        "\n"
      ],
      "metadata": {
        "id": "JInjY9lbHzMo"
      }
    },
    {
      "cell_type": "markdown",
      "source": [
        "11. What advantages do dictionaries offer over lists for certain tasks?\n",
        "     1- Fast Lookups\n",
        "     Dictionaries provide fast lookups, with an average time complexity of O(1), making them ideal for tasks that require frequent lookups.\n",
        "     2- Key-Value Association\n",
        "     Dictionaries allow you to associate keys with values, making it easy to store and retrieve data in a structured way.\n",
        "     3- Efficient Insertion and Deletion\n",
        "     Dictionaries provide efficient insertion and deletion operations, with an average time complexity of O(1).\n",
        "     4- No Duplicate Keys\n",
        "     Dictionaries automatically eliminate duplicate keys, ensuring that each key is unique.\n",
        "\n"
      ],
      "metadata": {
        "id": "KUPrFrsYIFga"
      }
    },
    {
      "cell_type": "markdown",
      "source": [
        "12. Describe a scenario where using a tuple would be preferable over a list.\n",
        "    - Here's a scenario where using a tuple would be preferable over a list:\n",
        "     Scenario: Representing a Point in 2D Space\n",
        "     magine you're working on a graphics project and need to represent points in 2D space. You want to store the x and y coordinates of each point.\n",
        "     Immutability: Tuples are immutable, which ensures that the coordinates of a point cannot be accidentally changed.\n",
        "     Performance: Tuples are faster and more memory-efficient than lists, which is important when working with large numbers of points.\n",
        "    3. Code Readability: Tuples provide a clear and concise way to represent points, making the code easier to read and understand.\n",
        "    \n"
      ],
      "metadata": {
        "id": "eAS5VaSdIPj5"
      }
    },
    {
      "cell_type": "markdown",
      "source": [
        "13. How do sets handle duplicate values in Python?\n",
        "   - In Python, sets automatically eliminate duplicate values.\n",
        "   "
      ],
      "metadata": {
        "id": "TYz-nJvJIYc4"
      }
    },
    {
      "cell_type": "markdown",
      "source": [],
      "metadata": {
        "id": "0xA60LIzIb9H"
      }
    },
    {
      "cell_type": "markdown",
      "source": [
        "14. How does the “in” keyword work differently for lists and dictionaries?\n",
        "   - In Python, the in keyword works differently for lists and dictionaries:\n",
        "     Lists\n",
        "   For lists, the in keyword checks if a value is present in the list. It iterates over the list's elements and returns True if the value is found, and False otherwise.\n",
        "   Dictionaries\n",
        "   For dictionaries, the in keyword checks if a key is present in the dictionary. It does not check for values. It returns True if the key is found, and False otherwise.\n"
      ],
      "metadata": {
        "id": "uF5sAI8aIcA0"
      }
    },
    {
      "cell_type": "markdown",
      "source": [
        "15. Can you modify the elements of a tuple? Explain why or why not.\n",
        "   - No, you cannot modify the elements of a tuple in Python.\n",
        "   "
      ],
      "metadata": {
        "id": "F4rdOcItIfDK"
      }
    },
    {
      "cell_type": "markdown",
      "source": [
        "17. Describe the time complexity of accessing elements in a dictionary\n",
        "   - Accessing elements in a dictionary in Python has an average time complexity of O(1), making it a very efficient operation.\n",
        "  Why O(1) Time Complexity\n",
        "Dictionaries in Python are implemented as hash tables, which provide fast lookups. Here's why:\n",
        "\n",
        " Hashing: When you create a dictionary, Python hashes each key using a hash function. The hash value is used to determine the index at which the corresponding value is stored.\n",
        " Indexing: When you access an element in the dictionary using its key, Python uses the hash value to determine the index at which the value is stored. It then returns the value at that index.\n",
        "\n",
        "Factors Affecting Time Complexity\n",
        "While the average time complexity of accessing elements in a dictionary is O(1), there are some factors that can affect performance:\n",
        "\n",
        " Hash collisions: When two keys hash to the same index, it's called a hash collision. Python resolves collisions using techniques like chaining or open addressing, which can increase the time complexity.\n",
        " Dictionary size: As the dictionary grows, the likelihood of hash collisions increases, which can affect performance.\n",
        " Key distribution: If the keys are poorly distributed, it can lead to more hash collisions and slower performance.\n",
        "\n",
        "Best Practices\n",
        "To ensure optimal performance when accessing elements in a dictionary:\n",
        "\n",
        "1. Use unique keys: Avoid using duplicate keys to minimize hash collisions.\n",
        "2. Use a good hash function: Python's built-in hash function is designed to minimize collisions.\n",
        "3. Keep dictionary sizes reasonable: Avoid extremely large dictionaries, as they can lead to performance issues.\n"
      ],
      "metadata": {
        "id": "_hGNdnaSIjHX"
      }
    },
    {
      "cell_type": "markdown",
      "source": [],
      "metadata": {
        "id": "ksXnhCy3KG0J"
      }
    },
    {
      "cell_type": "markdown",
      "source": [
        "18. what situations are lists preferred over dictionaries?\n",
        "   - Lists are preferred over dictionaries in the following situations:\n",
        "    1. Ordered Data\n",
        "     When the order of the data matters, lists are a better choice. Lists maintain the insertion order, whereas dictionaries do not (until Python 3.7).\n",
        "     2. Indexed Access\n",
        "      When you need to access elements by their index, lists are more suitable. Lists support indexing, slicing, and indexing assignment.\n",
        "     3. Homogeneous Data\n",
        "      When working with homogeneous data (i.e., data of the same type), lists are a better choice. Lists can store elements of any data type, but they are more efficient when storing elements of the same type.\n"
      ],
      "metadata": {
        "id": "frkkoLmbKG3j"
      }
    },
    {
      "cell_type": "markdown",
      "source": [
        "19. Why are dictionaries considered unordered, and how does that affect data retrieval?\n",
        "   -  Dictionaries are considered unordered because the order of the key-value pairs is not guaranteed to be preserved.\n",
        "\n",
        "   Why Dictionaries are Unordered\n",
        "   In Python, dictionaries are implemented as hash tables. When you insert a key-value pair into a dictionary, the key is hashed, and the corresponding value is stored at the resulting index. This process does not maintain any specific order.\n",
        "\n",
        "   Impact on Data Retrieval\n",
        "   The unordered nature of dictionaries affects data retrieval in the following ways:\n",
        "\n",
        "   1. No Index-Based Access: You cannot access dictionary elements by their index, as the order is not guaranteed.\n",
        "   2. Key-Based Access Only: You can only access dictionary elements by their key.\n",
        "   3. Unpredictable Iteration Order: When iterating over a dictionary, the order of the key-value pairs is unpredictable.\n",
        "\n"
      ],
      "metadata": {
        "id": "WShmSVc5KLkS"
      }
    },
    {
      "cell_type": "markdown",
      "source": [
        "20. Explain the difference between a list and a dictionary in terms of data retrieval.\n",
        "   - Here's a comparison of data retrieval in lists and dictionaries:\n",
        "     List Data Retrieval\n",
        "    1. Index-Based Access: Lists allow data retrieval using indexes (position of the element in the list).\n",
        "    2. Sequential Access: Lists can be accessed sequentially using loops (e.g., for loop).\n",
        "   3. Fast Lookups by Index: Lists provide fast lookups by index, with an average time complexity of O(1).\n",
        "   Dictionary Data Retrieval\n",
        "   1. Key-Based Access: Dictionaries allow data retrieval using keys (unique identifiers for each element).\n",
        "  2. Fast Lookups by Key: Dictionaries provide fast lookups by key, with an average time complexity of O(1).\n",
        "  3. No Index-Based Access: Dictionaries do not support index-based access.\n",
        "   Key Differences\n",
        "   1. Access Method: Lists use indexes, while dictionaries use keys.\n",
        "   2. Lookup Speed: Both lists and dictionaries offer fast lookups, but lists are faster for index-based access, while dictionaries are faster for key-based access.\n",
        "  3. Data Structure: Lists are ordered collections of elements, while dictionaries are unordered collections of key-value pairs.\n",
        "\n"
      ],
      "metadata": {
        "id": "uK83WQMQKPRg"
      }
    },
    {
      "cell_type": "markdown",
      "source": [],
      "metadata": {
        "id": "2Sz3lb8cKTWR"
      }
    },
    {
      "cell_type": "markdown",
      "source": [
        "# Practical Questions"
      ],
      "metadata": {
        "id": "nZ92PrrMKTa7"
      }
    },
    {
      "cell_type": "code",
      "source": [
        "# 1. Write a code to create a string with your name and print it\n",
        " # Create a string with my name\n",
        "my_name = \"Manish\"\n",
        "\n",
        "# Print the string\n",
        "print(my_name)\n",
        "\n"
      ],
      "metadata": {
        "colab": {
          "base_uri": "https://localhost:8080/"
        },
        "id": "o-KNKTMULGos",
        "outputId": "bda31271-8f5c-4e73-8f0d-7926d7589bcb"
      },
      "execution_count": 1,
      "outputs": [
        {
          "output_type": "stream",
          "name": "stdout",
          "text": [
            "Manish\n"
          ]
        }
      ]
    },
    {
      "cell_type": "code",
      "source": [
        "# 2. Write a code to find the length of the string \"Hello World\".\n",
        "# Define the string\n",
        "my_string = \"Hello World\"\n",
        "length = len(my_string)\n",
        "print(\"The length of the string is:\", length)"
      ],
      "metadata": {
        "colab": {
          "base_uri": "https://localhost:8080/"
        },
        "id": "7SZayop2LuQ8",
        "outputId": "e73f07cb-29b9-4c07-ae04-1dd793e43b65"
      },
      "execution_count": 2,
      "outputs": [
        {
          "output_type": "stream",
          "name": "stdout",
          "text": [
            "The length of the string is: 11\n"
          ]
        }
      ]
    },
    {
      "cell_type": "code",
      "source": [
        "# 3. Write a code to slice the first 3 characters from the string \"Python Programming\"\n",
        "# Define the string\n",
        "my_string = \"Python Programming\"\n",
        "sliced_string = my_string[:3]\n",
        "print(\"The first 3 characters are:\", sliced_string)\n",
        "\n"
      ],
      "metadata": {
        "colab": {
          "base_uri": "https://localhost:8080/"
        },
        "id": "AGGmxW8tLwz6",
        "outputId": "4d513e9a-8381-4d14-e21f-b3da5203ec50"
      },
      "execution_count": 3,
      "outputs": [
        {
          "output_type": "stream",
          "name": "stdout",
          "text": [
            "The first 3 characters are: Pyt\n"
          ]
        }
      ]
    },
    {
      "cell_type": "code",
      "source": [
        "# 4. Write a code to convert the string \"hello\" to uppercase.\n",
        "my_string = \"hello\"\n",
        "uppercase_string = my_string.upper()\n",
        "print(\"The uppercase string is:\", uppercase_string)\n"
      ],
      "metadata": {
        "colab": {
          "base_uri": "https://localhost:8080/"
        },
        "id": "meaV9MWbMB1K",
        "outputId": "4759705b-b25a-4c60-d707-d5ed3ecc3256"
      },
      "execution_count": 4,
      "outputs": [
        {
          "output_type": "stream",
          "name": "stdout",
          "text": [
            "The uppercase string is: HELLO\n"
          ]
        }
      ]
    },
    {
      "cell_type": "code",
      "source": [
        "# 5. Write a code to replace the word \"apple\" with \"orange\" in the string \"I like apple\".\n",
        "my_string = \"I like apple\"\n",
        "replaced_string = my_string.replace(\"apple\", \"orange\")\n",
        "print(\"The replaced string is:\", replaced_string)\n",
        "\n"
      ],
      "metadata": {
        "colab": {
          "base_uri": "https://localhost:8080/"
        },
        "id": "4IOmORZyMLAE",
        "outputId": "09eebfe5-8e46-4920-ddb9-61f5ed48eeeb"
      },
      "execution_count": 5,
      "outputs": [
        {
          "output_type": "stream",
          "name": "stdout",
          "text": [
            "The replaced string is: I like orange\n"
          ]
        }
      ]
    },
    {
      "cell_type": "code",
      "source": [
        "# 6. Write a code to create a list with numbers 1 to 5 and print it.\n",
        "my_list = [1, 2, 3, 4, 5]\n",
        "print(my_list)\n"
      ],
      "metadata": {
        "colab": {
          "base_uri": "https://localhost:8080/"
        },
        "id": "sAKR3ctRMbNz",
        "outputId": "5cb15d4d-bcc2-4c7f-a618-21262d2f3bdc"
      },
      "execution_count": 6,
      "outputs": [
        {
          "output_type": "stream",
          "name": "stdout",
          "text": [
            "[1, 2, 3, 4, 5]\n"
          ]
        }
      ]
    },
    {
      "cell_type": "code",
      "source": [
        "# 7. Write a code to append the number 10 to the list [1, 2, 3, 4].\n",
        "my_list = [1, 2, 3, 4]\n",
        "my_list.append(10)\n",
        "print(my_list)"
      ],
      "metadata": {
        "colab": {
          "base_uri": "https://localhost:8080/"
        },
        "id": "zNoy82i-Mj0j",
        "outputId": "c0628b48-3be5-4fd2-c9dc-0247f7027afb"
      },
      "execution_count": 7,
      "outputs": [
        {
          "output_type": "stream",
          "name": "stdout",
          "text": [
            "[1, 2, 3, 4, 10]\n"
          ]
        }
      ]
    },
    {
      "cell_type": "code",
      "source": [
        "# 8. Write a code to remove the number 3 from the list [1, 2, 3, 4, 5].\n",
        "my_list = [1, 2, 3, 4, 5]\n",
        "my_list.remove(3)\n",
        "print(my_list)\n"
      ],
      "metadata": {
        "colab": {
          "base_uri": "https://localhost:8080/"
        },
        "id": "hYDrlNtQMvJ7",
        "outputId": "201d4bc8-7196-491f-8402-694d5657bb9e"
      },
      "execution_count": 8,
      "outputs": [
        {
          "output_type": "stream",
          "name": "stdout",
          "text": [
            "[1, 2, 4, 5]\n"
          ]
        }
      ]
    },
    {
      "cell_type": "code",
      "source": [
        "# 9. Write a code to access the second element in the list ['a', 'b', 'c', 'd'].\n",
        "my_list = ['a', 'b', 'c', 'd']\n",
        "second_element = my_list[1]\n",
        "print(second_element)\n"
      ],
      "metadata": {
        "colab": {
          "base_uri": "https://localhost:8080/"
        },
        "id": "4Irqa1_QMy-R",
        "outputId": "c3b491b2-4133-4243-a1f0-79c1fded3e47"
      },
      "execution_count": 9,
      "outputs": [
        {
          "output_type": "stream",
          "name": "stdout",
          "text": [
            "b\n"
          ]
        }
      ]
    },
    {
      "cell_type": "code",
      "source": [
        "# 10. Write a code to reverse the list [10, 20, 30, 40, 50].\n",
        "my_list = [10, 20, 30, 40, 50]\n",
        "reversed_list = my_list[::-1]\n",
        "print(reversed_list)"
      ],
      "metadata": {
        "colab": {
          "base_uri": "https://localhost:8080/"
        },
        "id": "XLpeyobCM56d",
        "outputId": "91f857ea-a696-4255-a86c-c5ed0f6b74fc"
      },
      "execution_count": 10,
      "outputs": [
        {
          "output_type": "stream",
          "name": "stdout",
          "text": [
            "[50, 40, 30, 20, 10]\n"
          ]
        }
      ]
    },
    {
      "cell_type": "code",
      "source": [
        "# 11. Write a code to create a tuple with the elements 100, 200, 300 and print it.\n",
        "my_tuple = (100, 200, 300)\n",
        "print(my_tuple)\n"
      ],
      "metadata": {
        "colab": {
          "base_uri": "https://localhost:8080/"
        },
        "id": "uWFTz0GvNRO9",
        "outputId": "f47b5db8-f2ce-4675-a24f-278e5dc20ea7"
      },
      "execution_count": 11,
      "outputs": [
        {
          "output_type": "stream",
          "name": "stdout",
          "text": [
            "(100, 200, 300)\n"
          ]
        }
      ]
    },
    {
      "cell_type": "code",
      "source": [
        "# 12. Write a code to access the second-to-last element of the tuple ('red', 'green', 'blue', 'yellow').\n",
        "my_tuple = ('red', 'green', 'blue', 'yellow')\n",
        "second_to_last_element = my_tuple[-2]\n",
        "print(second_to_last_element)\n",
        "\n"
      ],
      "metadata": {
        "colab": {
          "base_uri": "https://localhost:8080/"
        },
        "id": "tTF_jvm8NWhS",
        "outputId": "5c9c8422-e784-4070-9395-87b6b2483d47"
      },
      "execution_count": 12,
      "outputs": [
        {
          "output_type": "stream",
          "name": "stdout",
          "text": [
            "blue\n"
          ]
        }
      ]
    },
    {
      "cell_type": "code",
      "source": [
        "# 13. Write a code to find the minimum number in the tuple (10, 20, 5, 15).\n",
        "my_tuple = (10, 20, 5, 15)\n",
        "min_number = min(my_tuple)\n",
        "print(\"The minimum number is:\", min_number)\n"
      ],
      "metadata": {
        "colab": {
          "base_uri": "https://localhost:8080/"
        },
        "id": "QRxfiICQNlLb",
        "outputId": "fac67b5f-e6d0-46d0-8732-2241f451d97c"
      },
      "execution_count": 13,
      "outputs": [
        {
          "output_type": "stream",
          "name": "stdout",
          "text": [
            "The minimum number is: 5\n"
          ]
        }
      ]
    },
    {
      "cell_type": "code",
      "source": [
        "# 14. Write a code to find the index of the element \"cat\" in the tuple ('dog', 'cat', 'rabbit').\n",
        "my_tuple = ('dog', 'cat', 'rabbit')\n",
        "index = my_tuple.index('cat')\n",
        "print(\"The index of 'cat' is:\", index)"
      ],
      "metadata": {
        "colab": {
          "base_uri": "https://localhost:8080/"
        },
        "id": "wBLoPVDMNro7",
        "outputId": "6abc8b7c-7841-4b39-9202-4e5f3b0ea4ff"
      },
      "execution_count": 14,
      "outputs": [
        {
          "output_type": "stream",
          "name": "stdout",
          "text": [
            "The index of 'cat' is: 1\n"
          ]
        }
      ]
    },
    {
      "cell_type": "code",
      "source": [
        "# 15. Write a code to create a tuple containing three different fruits and check if \"kiwi\" is in it.\n",
        "fruits = (\"apple\", \"banana\", \"kiwi\")\n",
        "if \"kiwi\" in fruits:\n",
        "    print(\"Yes, 'kiwi' is in the tuple.\")\n",
        "else:\n",
        "    print(\"No, 'kiwi' is not in the tuple.\")"
      ],
      "metadata": {
        "colab": {
          "base_uri": "https://localhost:8080/"
        },
        "id": "G6qtdNzeN8Fy",
        "outputId": "c43140e5-a2a2-4a37-e394-ad09eee1e7f0"
      },
      "execution_count": 15,
      "outputs": [
        {
          "output_type": "stream",
          "name": "stdout",
          "text": [
            "Yes, 'kiwi' is in the tuple.\n"
          ]
        }
      ]
    },
    {
      "cell_type": "code",
      "source": [
        "# 16. Write a code to create a set with the elements 'a', 'b', 'c' and print it.\n",
        "my_set = {'a', 'b', 'c'}\n",
        "print(my_set)\n"
      ],
      "metadata": {
        "colab": {
          "base_uri": "https://localhost:8080/"
        },
        "id": "hbV690SUN_u8",
        "outputId": "fd2bb799-69d2-4cf9-c891-007d699f465d"
      },
      "execution_count": 16,
      "outputs": [
        {
          "output_type": "stream",
          "name": "stdout",
          "text": [
            "{'b', 'c', 'a'}\n"
          ]
        }
      ]
    },
    {
      "cell_type": "code",
      "source": [
        "# 17. Write a code to clear all elements from the set {1, 2, 3, 4, 5}.\n",
        "my_set = {1, 2, 3, 4, 5}\n",
        "print(\"Original Set:\", my_set)\n",
        "my_set.clear()\n",
        "print(\"Cleared Set:\", my_set)"
      ],
      "metadata": {
        "colab": {
          "base_uri": "https://localhost:8080/"
        },
        "id": "B4gosFMlOHsD",
        "outputId": "782bc762-028c-4734-ba28-7c655bf01c33"
      },
      "execution_count": 17,
      "outputs": [
        {
          "output_type": "stream",
          "name": "stdout",
          "text": [
            "Original Set: {1, 2, 3, 4, 5}\n",
            "Cleared Set: set()\n"
          ]
        }
      ]
    },
    {
      "cell_type": "code",
      "source": [
        "# 18. Write a code to remove the element 4 from the set {1, 2, 3, 4}.\n",
        "my_set = {1, 2, 3, 4}\n",
        "print(\"Original Set:\", my_set)\n",
        "my_set.discard(4)\n",
        "print(\"Updated Set:\", my_set)\n"
      ],
      "metadata": {
        "colab": {
          "base_uri": "https://localhost:8080/"
        },
        "id": "43Cgxe8sOPek",
        "outputId": "5b7e5eff-1b39-460e-a48a-f2cbac85b7db"
      },
      "execution_count": 18,
      "outputs": [
        {
          "output_type": "stream",
          "name": "stdout",
          "text": [
            "Original Set: {1, 2, 3, 4}\n",
            "Updated Set: {1, 2, 3}\n"
          ]
        }
      ]
    },
    {
      "cell_type": "code",
      "source": [
        "# 19. Write a code to find the union of two sets {1, 2, 3} and {3, 4, 5}.\n",
        "set1 = {1, 2, 3}\n",
        "set2 = {3, 4, 5}\n",
        "print(\"Set 1:\", set1)\n",
        "print(\"Set 2:\", set2)\n",
        "union_set = set1.union(set2)\n",
        "print(\"Union Set:\", union_set)"
      ],
      "metadata": {
        "colab": {
          "base_uri": "https://localhost:8080/"
        },
        "id": "P3srJR4DOWh6",
        "outputId": "5703041c-ec3d-449c-9987-a591d2248ab8"
      },
      "execution_count": 19,
      "outputs": [
        {
          "output_type": "stream",
          "name": "stdout",
          "text": [
            "Set 1: {1, 2, 3}\n",
            "Set 2: {3, 4, 5}\n",
            "Union Set: {1, 2, 3, 4, 5}\n"
          ]
        }
      ]
    },
    {
      "cell_type": "code",
      "source": [
        "# 20. Write a code to find the intersection of two sets {1, 2, 3} and {2, 3, 4}.\n",
        "set1 = {1, 2, 3}\n",
        "set2 = {2, 3, 4}\n",
        "print(\"Set 1:\", set1)\n",
        "print(\"Set 2:\", set2)\n",
        "intersection_set = set1.intersection(set2)\n",
        "print(\"Intersection Set:\", intersection_set)\n"
      ],
      "metadata": {
        "colab": {
          "base_uri": "https://localhost:8080/"
        },
        "id": "s5KODngEOaAU",
        "outputId": "0155b0f6-68b5-4064-9613-7ccf9316b91d"
      },
      "execution_count": 20,
      "outputs": [
        {
          "output_type": "stream",
          "name": "stdout",
          "text": [
            "Set 1: {1, 2, 3}\n",
            "Set 2: {2, 3, 4}\n",
            "Intersection Set: {2, 3}\n"
          ]
        }
      ]
    },
    {
      "cell_type": "code",
      "source": [
        "# 21. Write a code to create a dictionary with the keys \"name\", \"age\", and \"city\", and print it.\n",
        "person = {\n",
        "    \"name\": \"Manish\",\n",
        "    \"age\": 30,\n",
        "    \"city\": \"Kolkata\"\n",
        "}\n",
        "print(person)\n"
      ],
      "metadata": {
        "colab": {
          "base_uri": "https://localhost:8080/"
        },
        "id": "9_fRTE4IOk8_",
        "outputId": "18114105-4832-4cf6-81fa-c21a18696978"
      },
      "execution_count": 22,
      "outputs": [
        {
          "output_type": "stream",
          "name": "stdout",
          "text": [
            "{'name': 'Manish', 'age': 30, 'city': 'Kolkata'}\n"
          ]
        }
      ]
    },
    {
      "cell_type": "code",
      "source": [
        "# 22. Write a code to add a new key-value pair \"country\": \"USA\" to the dictionary {'name': 'John', 'age': 25}.\n",
        "person = {'name': 'John', 'age': 25}\n",
        "print(\"Original Dictionary:\", person)\n",
        "person[\"country\"] = \"USA\"\n",
        "print(\"Updated Dictionary:\", person)"
      ],
      "metadata": {
        "colab": {
          "base_uri": "https://localhost:8080/"
        },
        "id": "NX9UFHXuRlHI",
        "outputId": "d16ef80d-94d4-4a28-f941-389329abe091"
      },
      "execution_count": 23,
      "outputs": [
        {
          "output_type": "stream",
          "name": "stdout",
          "text": [
            "Original Dictionary: {'name': 'John', 'age': 25}\n",
            "Updated Dictionary: {'name': 'John', 'age': 25, 'country': 'USA'}\n"
          ]
        }
      ]
    },
    {
      "cell_type": "code",
      "source": [
        "# 23. Write a code to access the value associated with the key \"name\" in the dictionary {'name': 'Alice', 'age': 30}.\n",
        "person = {'name': 'Alice', 'age': 30}\n",
        "name = person[\"name\"]\n",
        "print(\"Name:\", name)\n"
      ],
      "metadata": {
        "colab": {
          "base_uri": "https://localhost:8080/"
        },
        "id": "HoJlWgTQSTQv",
        "outputId": "76531a15-f02e-45f4-e51c-a2c8efc09a4f"
      },
      "execution_count": 24,
      "outputs": [
        {
          "output_type": "stream",
          "name": "stdout",
          "text": [
            "Name: Alice\n"
          ]
        }
      ]
    },
    {
      "cell_type": "code",
      "source": [
        "# 24. Write a code to remove the key \"age\" from the dictionary {'name': 'Bob', 'age': 22, 'city': 'New York'}.\n",
        "person = {'name': 'Bob', 'age': 22, 'city': 'New York'}\n",
        "print(\"Original Dictionary:\", person)\n",
        "del person[\"age\"]\n",
        "print(\"Updated Dictionary:\", person)"
      ],
      "metadata": {
        "colab": {
          "base_uri": "https://localhost:8080/"
        },
        "id": "he3WPHfZSbsA",
        "outputId": "f66ab32e-952f-440a-ccb6-c1415bdf6ee9"
      },
      "execution_count": 25,
      "outputs": [
        {
          "output_type": "stream",
          "name": "stdout",
          "text": [
            "Original Dictionary: {'name': 'Bob', 'age': 22, 'city': 'New York'}\n",
            "Updated Dictionary: {'name': 'Bob', 'city': 'New York'}\n"
          ]
        }
      ]
    },
    {
      "cell_type": "code",
      "source": [
        "# 25. Write a code to check if the key \"city\" exists in the dictionary {'name': 'Alice', 'city': 'Paris'}.\n",
        "person = {'name': 'Alice', 'city': 'Paris'}\n",
        "if \"city\" in person:\n",
        "    print(\"The key 'city' exists in the dictionary.\")\n",
        "else:\n",
        "    print(\"The key 'city' does not exist in the dictionary.\")"
      ],
      "metadata": {
        "colab": {
          "base_uri": "https://localhost:8080/"
        },
        "id": "8i4YBwnPSor0",
        "outputId": "3b78fe09-82a5-4184-9870-1206a05da699"
      },
      "execution_count": 26,
      "outputs": [
        {
          "output_type": "stream",
          "name": "stdout",
          "text": [
            "The key 'city' exists in the dictionary.\n"
          ]
        }
      ]
    },
    {
      "cell_type": "code",
      "source": [
        "# 26. Write a code to create a list, a tuple, and a dictionary, and print them all.\n",
        "my_list = [1, 2, 3, 4, 5]\n",
        "my_tuple = (\"apple\", \"banana\", \"cherry\")\n",
        "my_dict = {\"name\": \"John\", \"age\": 30, \"city\": \"New York\"}\n",
        "print(\"List:\", my_list)\n",
        "print(\"Tuple:\", my_tuple)\n",
        "print(\"Dictionary:\", my_dict)"
      ],
      "metadata": {
        "colab": {
          "base_uri": "https://localhost:8080/"
        },
        "id": "SMMMGZveSxIY",
        "outputId": "1264d4df-3cb3-4f2c-f8cb-7178200c23be"
      },
      "execution_count": 27,
      "outputs": [
        {
          "output_type": "stream",
          "name": "stdout",
          "text": [
            "List: [1, 2, 3, 4, 5]\n",
            "Tuple: ('apple', 'banana', 'cherry')\n",
            "Dictionary: {'name': 'John', 'age': 30, 'city': 'New York'}\n"
          ]
        }
      ]
    },
    {
      "cell_type": "code",
      "source": [
        "# 27. Write a code to create a list of 5 random numbers between 1 and 100, sort it in ascending order, and print the result. (replaced)\n",
        "import random\n",
        "\n",
        "# Create a list of 5 random numbers between 1 and 100\n",
        "random_numbers = [random.randint(1, 100) for _ in range(5)]\n",
        "\n",
        "# Sort the list in ascending order\n",
        "random_numbers.sort()\n",
        "\n",
        "# Print the sorted list\n",
        "print(random_numbers)"
      ],
      "metadata": {
        "colab": {
          "base_uri": "https://localhost:8080/"
        },
        "id": "8mTeiKO8Wge-",
        "outputId": "d00e8b35-6dad-42ac-f914-fab0e3c71f02"
      },
      "execution_count": 35,
      "outputs": [
        {
          "output_type": "stream",
          "name": "stdout",
          "text": [
            "[57, 60, 61, 62, 98]\n"
          ]
        }
      ]
    },
    {
      "cell_type": "code",
      "source": [
        "# 28. Write a code to create a list with strings and print the element at the third index.\n",
        "fruit_list = [\"apple\", \"banana\", \"cherry\", \"date\", \"elderberry\"]\n",
        "print(\"Element at third index:\", fruit_list[2])\n"
      ],
      "metadata": {
        "colab": {
          "base_uri": "https://localhost:8080/"
        },
        "id": "Wa5W6ScaTEnW",
        "outputId": "c8edc15f-3c4b-428d-b5d3-8ecde1ec4c90"
      },
      "execution_count": 28,
      "outputs": [
        {
          "output_type": "stream",
          "name": "stdout",
          "text": [
            "Element at third index: cherry\n"
          ]
        }
      ]
    },
    {
      "cell_type": "code",
      "source": [
        "# 29. Write a code to combine two dictionaries into one and print the result.\n",
        "dict1 = {\"name\": \"John\", \"age\": 30}\n",
        "dict2 = {\"city\": \"New York\", \"country\": \"USA\"}\n",
        "print(\"Dictionary 1:\", dict1)\n",
        "print(\"Dictionary 2:\", dict2)\n",
        "dict1.update(dict2)\n",
        "print(\"Combined Dictionary:\", dict1)"
      ],
      "metadata": {
        "colab": {
          "base_uri": "https://localhost:8080/"
        },
        "id": "Gf_eu71WTKYL",
        "outputId": "d899e557-2156-4751-eee5-95b72a69fcba"
      },
      "execution_count": 29,
      "outputs": [
        {
          "output_type": "stream",
          "name": "stdout",
          "text": [
            "Dictionary 1: {'name': 'John', 'age': 30}\n",
            "Dictionary 2: {'city': 'New York', 'country': 'USA'}\n",
            "Combined Dictionary: {'name': 'John', 'age': 30, 'city': 'New York', 'country': 'USA'}\n"
          ]
        }
      ]
    },
    {
      "cell_type": "code",
      "source": [
        "# 30. Write a code to convert a list of strings into a set.\n",
        "string_list = [\"apple\", \"banana\", \"apple\", \"cherry\", \"banana\"]\n",
        "print(\"Original List:\", string_list)\n",
        "string_set = set(string_list)\n",
        "print(\"Resulting Set:\", string_set)\n",
        "\n"
      ],
      "metadata": {
        "colab": {
          "base_uri": "https://localhost:8080/"
        },
        "id": "ce2PDOu3TOrW",
        "outputId": "dca755fe-fcf1-4133-9ce9-382247307d1c"
      },
      "execution_count": 30,
      "outputs": [
        {
          "output_type": "stream",
          "name": "stdout",
          "text": [
            "Original List: ['apple', 'banana', 'apple', 'cherry', 'banana']\n",
            "Resulting Set: {'banana', 'apple', 'cherry'}\n"
          ]
        }
      ]
    }
  ]
}